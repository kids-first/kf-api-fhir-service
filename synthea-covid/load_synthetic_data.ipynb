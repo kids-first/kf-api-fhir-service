{
 "cells": [
  {
   "cell_type": "code",
   "execution_count": null,
   "metadata": {},
   "outputs": [],
   "source": [
    "import os\n",
    "from pprint import pprint, pformat\n",
    "from concurrent.futures import (\n",
    "    ThreadPoolExecutor, \n",
    "    as_completed\n",
    ")\n",
    "from datetime import datetime\n",
    "\n",
    "import ndjson\n",
    "from requests import RequestException\n",
    "\n",
    "from ncpi_fhir_utility.client import FhirApiClient\n",
    "\n",
    "FHIR_API = os.getenv('FHIR_API') or 'http://localhost:8000'\n",
    "FHIR_USER = os.getenv('FHIR_USER') or 'admin'\n",
    "FHIR_PW = os.getenv('FHIR_PW') or 'password'\n",
    "\n",
    "DATA_DIR = './synthetic-data'\n",
    "# Add a target profile(s) below\n",
    "PROFILES = [\n",
    "    'Practitioner', # 5898\n",
    "    'Organization', # 5898\n",
    "    'Patient', # 4967\n",
    "    'Encounter', # 62571\n",
    "    'Condition', # 26984\n",
    "    'Observation', # 202064\n",
    "    'DiagnosticReport', # 23133\n",
    "]\n",
    "BASE_PROFILE_URL = 'http://hl7.org/fhir/StructureDefinition'"
   ]
  },
  {
   "cell_type": "code",
   "execution_count": null,
   "metadata": {},
   "outputs": [],
   "source": [
    "# Initialize FHIR API client\n",
    "client = FhirApiClient(base_url=FHIR_API, auth=(FHIR_USER, FHIR_PW))"
   ]
  },
  {
   "cell_type": "code",
   "execution_count": null,
   "metadata": {},
   "outputs": [],
   "source": [
    "def send_resource(resource):\n",
    "    api_path = f'{FHIR_API}/{profile}'\n",
    "    verb = 'POST'\n",
    "    if 'id' in resource:\n",
    "        api_path = f'{api_path}/{resource[\"id\"]}'\n",
    "        verb = 'PUT'\n",
    "\n",
    "    success, result = client.send_request(\n",
    "        verb, api_path, json=resource\n",
    "    )\n",
    "    return success, result, resource\n",
    "\n",
    "\n",
    "def consume_futures(futures):\n",
    "    for future in as_completed(futures):\n",
    "        success, result, resource = future.result()\n",
    "        # print(f'Sent {result[\"response\"][\"id\"]}')\n",
    "        if success:\n",
    "            '''\n",
    "            print(f'{result[\"response\"][\"id\"]}')\n",
    "            '''\n",
    "            continue\n",
    "        else:         \n",
    "            raise Exception(\n",
    "                f'Failed to submit:\\n{pformat(resource)}'\n",
    "                f'\\nGot:\\n{pformat(result)}'\n",
    "            )"
   ]
  },
  {
   "cell_type": "code",
   "execution_count": null,
   "metadata": {},
   "outputs": [],
   "source": [
    "# Load FHIR resources\n",
    "begin = datetime.now()\n",
    "for state in os.listdir(DATA_DIR):\n",
    "    if state.startswith('.'):\n",
    "        continue\n",
    "\n",
    "    print(f'Begin loading resources from {state}')\n",
    "    base_path = f'{DATA_DIR}/{state}/fhir'\n",
    "    \n",
    "    for profile in PROFILES:\n",
    "        file_path = os.path.join(\n",
    "            base_path, \n",
    "            f'{profile}.ndjson'\n",
    "        )\n",
    "        \n",
    "        resources = ndjson.load(open(file_path))\n",
    "        print(f'  Loading {profile} resources')\n",
    "        with ThreadPoolExecutor(max_workers=10) as tpex:\n",
    "            futures = []\n",
    "            for resource in resources:\n",
    "                # Set base profile\n",
    "                resource \\\n",
    "                    .setdefault('meta', {}) \\\n",
    "                    .setdefault('profile', []) \\\n",
    "                    .append(f'{BASE_PROFILE_URL}/{profile}')\n",
    "                futures.append(\n",
    "                    tpex.submit(send_resource, resource)\n",
    "                )\n",
    "            consume_futures(futures)\n",
    "    print(f'Done loading resources from {state}')\n",
    "\n",
    "print(f'✅ Took {datetime.now() - begin}')"
   ]
  },
  {
   "cell_type": "code",
   "execution_count": null,
   "metadata": {},
   "outputs": [],
   "source": []
  }
 ],
 "metadata": {
  "kernelspec": {
   "display_name": "Python 3",
   "language": "python",
   "name": "python3"
  },
  "language_info": {
   "codemirror_mode": {
    "name": "ipython",
    "version": 3
   },
   "file_extension": ".py",
   "mimetype": "text/x-python",
   "name": "python",
   "nbconvert_exporter": "python",
   "pygments_lexer": "ipython3",
   "version": "3.7.5"
  }
 },
 "nbformat": 4,
 "nbformat_minor": 4
}
